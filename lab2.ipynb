{
 "cells": [
  {
   "cell_type": "code",
   "execution_count": 2,
   "metadata": {},
   "outputs": [
    {
     "name": "stderr",
     "output_type": "stream",
     "text": [
      "[nltk_data] Downloading package punkt_tab to C:\\Users\\Durgesh\n",
      "[nltk_data]     Babu\\AppData\\Roaming\\nltk_data...\n",
      "[nltk_data]   Package punkt_tab is already up-to-date!\n"
     ]
    },
    {
     "data": {
      "text/plain": [
       "True"
      ]
     },
     "execution_count": 2,
     "metadata": {},
     "output_type": "execute_result"
    }
   ],
   "source": [
    "import nltk\n",
    "from nltk.util import ngrams\n",
    "from collections import Counter\n",
    "from nltk.tokenize import word_tokenize\n",
    "from nltk.probability import FreqDist\n",
    "# Download necessary NLTK resources\n",
    "nltk.download('punkt_tab')"
   ]
  },
  {
   "cell_type": "code",
   "execution_count": 3,
   "metadata": {},
   "outputs": [],
   "source": [
    "# Sample sentences\n",
    "sentences = [\n",
    "    \"The quick brown fox jumps over the lazy dog.\",\n",
    "    \"A quick brown fox jumps over the lazy dog.\",\n",
    "    \"The lazy dog is jumped over by the quick brown fox.\"\n",
    "]"
   ]
  },
  {
   "cell_type": "code",
   "execution_count": 4,
   "metadata": {},
   "outputs": [],
   "source": [
    "# Function to generate N-grams and calculate probabilities\n",
    "def ngram_probability(sentences, n):\n",
    "    # Tokenize sentences and generate N-grams\n",
    "    tokens = []\n",
    "    for sentence in sentences:\n",
    "        tokens.extend(word_tokenize(sentence.lower()))\n",
    "    \n",
    "    # Generate N-grams\n",
    "    n_grams = list(ngrams(tokens, n))\n",
    "    \n",
    "    # Calculate frequency distribution\n",
    "    freq_dist = FreqDist(n_grams)\n",
    "    \n",
    "    # Calculate probabilities\n",
    "    total_ngrams = len(n_grams)\n",
    "    probabilities = {gram: count / total_ngrams for gram, count in freq_dist.items()}\n",
    "    \n",
    "    return probabilities"
   ]
  },
  {
   "cell_type": "code",
   "execution_count": 5,
   "metadata": {},
   "outputs": [
    {
     "name": "stdout",
     "output_type": "stream",
     "text": [
      "Unigram Probabilities:\n",
      "('the',): 0.1562\n",
      "('quick',): 0.0938\n",
      "('brown',): 0.0938\n",
      "('fox',): 0.0938\n",
      "('jumps',): 0.0625\n",
      "('over',): 0.0938\n",
      "('lazy',): 0.0938\n",
      "('dog',): 0.0938\n",
      "('.',): 0.0938\n",
      "('a',): 0.0312\n",
      "('is',): 0.0312\n",
      "('jumped',): 0.0312\n",
      "('by',): 0.0312\n"
     ]
    }
   ],
   "source": [
    "# Unigrams (n=1)\n",
    "unigram_probs = ngram_probability(sentences, 1)\n",
    "print(\"Unigram Probabilities:\")\n",
    "for gram, prob in unigram_probs.items():\n",
    "    print(f\"{gram}: {prob:.4f}\")"
   ]
  },
  {
   "cell_type": "code",
   "execution_count": 6,
   "metadata": {},
   "outputs": [
    {
     "name": "stdout",
     "output_type": "stream",
     "text": [
      "\n",
      "Bigram Probabilities:\n",
      "('the', 'quick'): 0.0645\n",
      "('quick', 'brown'): 0.0968\n",
      "('brown', 'fox'): 0.0968\n",
      "('fox', 'jumps'): 0.0645\n",
      "('jumps', 'over'): 0.0645\n",
      "('over', 'the'): 0.0645\n",
      "('the', 'lazy'): 0.0968\n",
      "('lazy', 'dog'): 0.0968\n",
      "('dog', '.'): 0.0645\n",
      "('.', 'a'): 0.0323\n",
      "('a', 'quick'): 0.0323\n",
      "('.', 'the'): 0.0323\n",
      "('dog', 'is'): 0.0323\n",
      "('is', 'jumped'): 0.0323\n",
      "('jumped', 'over'): 0.0323\n",
      "('over', 'by'): 0.0323\n",
      "('by', 'the'): 0.0323\n",
      "('fox', '.'): 0.0323\n"
     ]
    }
   ],
   "source": [
    "# Bigrams (n=2)\n",
    "bigram_probs = ngram_probability(sentences, 2)\n",
    "print(\"\\nBigram Probabilities:\")\n",
    "for gram, prob in bigram_probs.items():\n",
    "    print(f\"{gram}: {prob:.4f}\")\n"
   ]
  },
  {
   "cell_type": "code",
   "execution_count": 7,
   "metadata": {},
   "outputs": [
    {
     "name": "stdout",
     "output_type": "stream",
     "text": [
      "\n",
      "Trigram Probabilities:\n",
      "('the', 'quick', 'brown'): 0.0667\n",
      "('quick', 'brown', 'fox'): 0.1000\n",
      "('brown', 'fox', 'jumps'): 0.0667\n",
      "('fox', 'jumps', 'over'): 0.0667\n",
      "('jumps', 'over', 'the'): 0.0667\n",
      "('over', 'the', 'lazy'): 0.0667\n",
      "('the', 'lazy', 'dog'): 0.1000\n",
      "('lazy', 'dog', '.'): 0.0667\n",
      "('dog', '.', 'a'): 0.0333\n",
      "('.', 'a', 'quick'): 0.0333\n",
      "('a', 'quick', 'brown'): 0.0333\n",
      "('dog', '.', 'the'): 0.0333\n",
      "('.', 'the', 'lazy'): 0.0333\n",
      "('lazy', 'dog', 'is'): 0.0333\n",
      "('dog', 'is', 'jumped'): 0.0333\n",
      "('is', 'jumped', 'over'): 0.0333\n",
      "('jumped', 'over', 'by'): 0.0333\n",
      "('over', 'by', 'the'): 0.0333\n",
      "('by', 'the', 'quick'): 0.0333\n",
      "('brown', 'fox', '.'): 0.0333\n"
     ]
    }
   ],
   "source": [
    "# Trigrams (n=3)\n",
    "trigram_probs = ngram_probability(sentences, 3)\n",
    "print(\"\\nTrigram Probabilities:\")\n",
    "for gram, prob in trigram_probs.items():\n",
    "    print(f\"{gram}: {prob:.4f}\")"
   ]
  },
  {
   "cell_type": "code",
   "execution_count": null,
   "metadata": {},
   "outputs": [],
   "source": []
  }
 ],
 "metadata": {
  "kernelspec": {
   "display_name": "Python 3",
   "language": "python",
   "name": "python3"
  },
  "language_info": {
   "codemirror_mode": {
    "name": "ipython",
    "version": 3
   },
   "file_extension": ".py",
   "mimetype": "text/x-python",
   "name": "python",
   "nbconvert_exporter": "python",
   "pygments_lexer": "ipython3",
   "version": "3.10.8"
  }
 },
 "nbformat": 4,
 "nbformat_minor": 2
}
