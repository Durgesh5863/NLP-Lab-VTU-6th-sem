{
 "cells": [
  {
   "cell_type": "code",
   "execution_count": 1,
   "metadata": {},
   "outputs": [],
   "source": [
    "def min_edit_distance(str1, str2):\n",
    "    m = len(str1)\n",
    "    n = len(str2)\n",
    "    \n",
    "    # Create a DP table to store results of subproblems\n",
    "    dp = [[0] * (n + 1) for _ in range(m + 1)]\n",
    "    \n",
    "    # Initialize the base cases\n",
    "    for i in range(m + 1):\n",
    "        dp[i][0] = i  # Deletion cost\n",
    "    for j in range(n + 1):\n",
    "        dp[0][j] = j  # Insertion cost\n",
    "    \n",
    "    # Fill the DP table\n",
    "    for i in range(1, m + 1):\n",
    "        for j in range(1, n + 1):\n",
    "            if str1[i - 1] == str2[j - 1]:\n",
    "                dp[i][j] = dp[i - 1][j - 1]  # No operation needed\n",
    "            else:\n",
    "                dp[i][j] = 1 + min(\n",
    "                    dp[i - 1][j],  # Deletion\n",
    "                    dp[i][j - 1],  # Insertion\n",
    "                    dp[i - 1][j - 1]  # Substitution\n",
    "                )\n",
    "    \n",
    "    # The final result is in dp[m][n]\n",
    "    return dp[m][n]"
   ]
  },
  {
   "cell_type": "code",
   "execution_count": 2,
   "metadata": {},
   "outputs": [],
   "source": [
    "# Test cases\n",
    "test_cases = [\n",
    "    (\"kitten\", \"sitting\"),  # Substitutions and insertions\n",
    "    (\"intention\", \"execution\"),  # Substitutions and deletions\n",
    "    (\"flaw\", \"lawn\"),  # Substitutions\n",
    "    (\"apple\", \"aple\"),  # Deletion\n",
    "    (\"book\", \"books\"),  # Insertion\n",
    "    (\"abc\", \"def\"),  # All substitutions\n",
    "    (\"\", \"abc\"),  # All insertions\n",
    "    (\"abc\", \"\")  # All deletions\n",
    "]"
   ]
  },
  {
   "cell_type": "code",
   "execution_count": 3,
   "metadata": {},
   "outputs": [
    {
     "name": "stdout",
     "output_type": "stream",
     "text": [
      "MED between 'kitten' and 'sitting': 3\n",
      "MED between 'intention' and 'execution': 5\n",
      "MED between 'flaw' and 'lawn': 2\n",
      "MED between 'apple' and 'aple': 1\n",
      "MED between 'book' and 'books': 1\n",
      "MED between 'abc' and 'def': 3\n",
      "MED between '' and 'abc': 3\n",
      "MED between 'abc' and '': 3\n"
     ]
    }
   ],
   "source": [
    "# Evaluate MED for each test case\n",
    "for str1, str2 in test_cases:\n",
    "    distance = min_edit_distance(str1, str2)\n",
    "    print(f\"MED between '{str1}' and '{str2}': {distance}\")"
   ]
  },
  {
   "cell_type": "code",
   "execution_count": null,
   "metadata": {},
   "outputs": [],
   "source": []
  }
 ],
 "metadata": {
  "kernelspec": {
   "display_name": "Python 3",
   "language": "python",
   "name": "python3"
  },
  "language_info": {
   "codemirror_mode": {
    "name": "ipython",
    "version": 3
   },
   "file_extension": ".py",
   "mimetype": "text/x-python",
   "name": "python",
   "nbconvert_exporter": "python",
   "pygments_lexer": "ipython3",
   "version": "3.10.8"
  }
 },
 "nbformat": 4,
 "nbformat_minor": 2
}
