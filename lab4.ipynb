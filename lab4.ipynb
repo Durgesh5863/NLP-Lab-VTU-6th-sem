{
 "cells": [
  {
   "cell_type": "code",
   "execution_count": 1,
   "metadata": {},
   "outputs": [],
   "source": [
    "import nltk\n",
    "from nltk import CFG"
   ]
  },
  {
   "cell_type": "code",
   "execution_count": 2,
   "metadata": {},
   "outputs": [],
   "source": [
    "# Define a simple Context-Free Grammar (CFG)\n",
    "grammar = CFG.fromstring(\"\"\"\n",
    "    S -> NP VP\n",
    "    NP -> Det N | N\n",
    "    VP -> V NP | V\n",
    "    Det -> 'the' | 'a'\n",
    "    N -> 'cat' | 'dog'\n",
    "    V -> 'chased' | 'barked'\n",
    "\"\"\")"
   ]
  },
  {
   "cell_type": "code",
   "execution_count": 3,
   "metadata": {},
   "outputs": [],
   "source": [
    "# Create Top-Down (Recursive Descent) and Bottom-Up (Chart) parsers\n",
    "top_down_parser = nltk.RecursiveDescentParser(grammar)\n",
    "bottom_up_parser = nltk.ChartParser(grammar)"
   ]
  },
  {
   "cell_type": "code",
   "execution_count": 4,
   "metadata": {},
   "outputs": [],
   "source": [
    "# Input sentence\n",
    "sentence = \"the cat chased a dog\".split()"
   ]
  },
  {
   "cell_type": "code",
   "execution_count": 5,
   "metadata": {},
   "outputs": [
    {
     "name": "stdout",
     "output_type": "stream",
     "text": [
      "Top-Down Parsing Results:\n",
      "(S (NP (Det the) (N cat)) (VP (V chased) (NP (Det a) (N dog))))\n"
     ]
    }
   ],
   "source": [
    "# Top-Down Parsing\n",
    "print(\"Top-Down Parsing Results:\")\n",
    "for tree in top_down_parser.parse(sentence):\n",
    "    print(tree)"
   ]
  },
  {
   "cell_type": "code",
   "execution_count": 6,
   "metadata": {},
   "outputs": [
    {
     "name": "stdout",
     "output_type": "stream",
     "text": [
      "\n",
      "Bottom-Up Parsing Results:\n",
      "(S (NP (Det the) (N cat)) (VP (V chased) (NP (Det a) (N dog))))\n"
     ]
    }
   ],
   "source": [
    "# Bottom-Up Parsing\n",
    "print(\"\\nBottom-Up Parsing Results:\")\n",
    "for tree in bottom_up_parser.parse(sentence):\n",
    "    print(tree)"
   ]
  },
  {
   "cell_type": "code",
   "execution_count": null,
   "metadata": {},
   "outputs": [],
   "source": []
  }
 ],
 "metadata": {
  "kernelspec": {
   "display_name": "Python 3",
   "language": "python",
   "name": "python3"
  },
  "language_info": {
   "codemirror_mode": {
    "name": "ipython",
    "version": 3
   },
   "file_extension": ".py",
   "mimetype": "text/x-python",
   "name": "python",
   "nbconvert_exporter": "python",
   "pygments_lexer": "ipython3",
   "version": "3.10.8"
  }
 },
 "nbformat": 4,
 "nbformat_minor": 2
}
