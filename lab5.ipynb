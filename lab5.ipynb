{
 "cells": [
  {
   "cell_type": "code",
   "execution_count": 1,
   "metadata": {},
   "outputs": [],
   "source": [
    "from collections import defaultdict\n",
    "import math"
   ]
  },
  {
   "cell_type": "code",
   "execution_count": 2,
   "metadata": {},
   "outputs": [],
   "source": [
    "def train_naive_bayes(data):\n",
    "    class_counts = defaultdict(int)\n",
    "    word_counts = defaultdict(lambda: defaultdict(int))\n",
    "    vocab = set()\n",
    "    \n",
    "    # Count occurrences\n",
    "    for words, label in data:\n",
    "        class_counts[label] += 1\n",
    "        for word in words:\n",
    "            word_counts[label][word] += 1\n",
    "            vocab.add(word)\n",
    "    \n",
    "    return class_counts, word_counts, vocab"
   ]
  },
  {
   "cell_type": "code",
   "execution_count": 3,
   "metadata": {},
   "outputs": [],
   "source": [
    "def calculate_probabilities(class_counts, word_counts, vocab, text, alpha=1):\n",
    "    total_reviews = sum(class_counts.values())\n",
    "    probabilities = {}\n",
    "    \n",
    "    for label in class_counts:\n",
    "        # Prior probability: P(Class)\n",
    "        prob = math.log(class_counts[label] / total_reviews)\n",
    "        total_words = sum(word_counts[label].values())\n",
    "        vocab_size = len(vocab)\n",
    "        \n",
    "        # Compute likelihood with add-1 smoothing: P(w|Class)\n",
    "        for word in text:\n",
    "            word_freq = word_counts[label][word] + alpha\n",
    "            prob += math.log(word_freq / (total_words + vocab_size * alpha))\n",
    "        \n",
    "        probabilities[label] = prob\n",
    "    \n",
    "    return probabilities"
   ]
  },
  {
   "cell_type": "code",
   "execution_count": 4,
   "metadata": {},
   "outputs": [],
   "source": [
    "def classify(class_counts, word_counts, vocab, text):\n",
    "    probabilities = calculate_probabilities(class_counts, word_counts, vocab, text)\n",
    "    return max(probabilities, key=probabilities.get)"
   ]
  },
  {
   "cell_type": "code",
   "execution_count": 5,
   "metadata": {},
   "outputs": [
    {
     "name": "stdout",
     "output_type": "stream",
     "text": [
      "Action\n"
     ]
    }
   ],
   "source": [
    "# Training Data\n",
    "reviews = [\n",
    "    (['fun', 'couple', 'love', 'love'], 'Comedy'),\n",
    "    (['fast', 'furious', 'shoot'], 'Action'),\n",
    "    (['couple', 'fly', 'fast', 'fun', 'fun'], 'Comedy'),\n",
    "    (['furious', 'shoot', 'shoot', 'fun'], 'Action'),\n",
    "    (['fly', 'fast', 'shoot', 'love'], 'Action')\n",
    "]\n",
    "\n",
    "# Train Naive Bayes Classifier\n",
    "class_counts, word_counts, vocab = train_naive_bayes(reviews)\n",
    "\n",
    "# New document\n",
    "D = ['fast', 'couple', 'shoot', 'fly']\n",
    "\n",
    "# Classify new document\n",
    "predicted_class = classify(class_counts, word_counts, vocab, D)\n",
    "print(predicted_class)"
   ]
  },
  {
   "cell_type": "code",
   "execution_count": null,
   "metadata": {},
   "outputs": [],
   "source": []
  }
 ],
 "metadata": {
  "kernelspec": {
   "display_name": "Python 3",
   "language": "python",
   "name": "python3"
  },
  "language_info": {
   "codemirror_mode": {
    "name": "ipython",
    "version": 3
   },
   "file_extension": ".py",
   "mimetype": "text/x-python",
   "name": "python",
   "nbconvert_exporter": "python",
   "pygments_lexer": "ipython3",
   "version": "3.10.8"
  }
 },
 "nbformat": 4,
 "nbformat_minor": 2
}
